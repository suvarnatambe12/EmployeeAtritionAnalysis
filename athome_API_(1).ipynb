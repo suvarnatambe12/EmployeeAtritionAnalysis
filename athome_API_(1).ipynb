{
  "nbformat": 4,
  "nbformat_minor": 0,
  "metadata": {
    "kernelspec": {
      "display_name": "Python 3",
      "language": "python",
      "name": "python3"
    },
    "language_info": {
      "codemirror_mode": {
        "name": "ipython",
        "version": 3
      },
      "file_extension": ".py",
      "mimetype": "text/x-python",
      "name": "python",
      "nbconvert_exporter": "python",
      "pygments_lexer": "ipython3",
      "version": "3.7.6"
    },
    "colab": {
      "name": "athome_API (1).ipynb",
      "provenance": [],
      "collapsed_sections": [],
      "include_colab_link": true
    }
  },
  "cells": [
    {
      "cell_type": "markdown",
      "metadata": {
        "id": "view-in-github",
        "colab_type": "text"
      },
      "source": [
        "<a href=\"https://colab.research.google.com/github/suvarnatambe12/EmployeeAtritionAnalysis/blob/main/athome_API_(1).ipynb\" target=\"_parent\"><img src=\"https://colab.research.google.com/assets/colab-badge.svg\" alt=\"Open In Colab\"/></a>"
      ]
    },
    {
      "cell_type": "code",
      "metadata": {
        "id": "jZ2zL_kCJ5NG"
      },
      "source": [
        "# Required Libarires\n",
        "import json\n",
        "import requests\n",
        "import pandas as pd"
      ],
      "execution_count": 31,
      "outputs": []
    },
    {
      "cell_type": "code",
      "metadata": {
        "id": "EqV24_U5J5NK"
      },
      "source": [
        "df = pd.DataFrame.from_dict(json_response['stores'], orient='columns')\n",
        "\n",
        "df.head(5)"
      ],
      "execution_count": null,
      "outputs": []
    },
    {
      "cell_type": "code",
      "metadata": {
        "id": "HxflliqlJ5NI"
      },
      "source": [
        "# URL\n",
        "webpage = \"https://www.athome.com/store-find-all\"\n",
        "headers = {'User-Agent' :'Safari/537.36' }\n",
        "\n",
        "response = requests.get(webpage, headers=headers)\n",
        "\n",
        "json_response = response.json()\n",
        "json_response['stores']"
      ],
      "execution_count": null,
      "outputs": []
    },
    {
      "cell_type": "code",
      "metadata": {
        "id": "D9klCqYmJ5NK"
      },
      "source": [
        "#Exporting CSV\n",
        "df.to_csv(r'~/athome_data.csv', index = False)"
      ],
      "execution_count": 23,
      "outputs": []
    },
    {
      "cell_type": "code",
      "metadata": {
        "id": "7xN3JCd9J5NK"
      },
      "source": [
        "class Polygon:\n",
        "    def __init__(self, no_of_sides):\n",
        "        self.n = no_of_sides\n",
        "        self.sides = [i for i in range(no_of_sides)]\n",
        "\n",
        "    def inputSides(self):\n",
        "        self.sides = [float(input(\"Enter side \"+str(i+1)+\" : \")) for i in range(self.n)]\n",
        "        print(self.sides)\n",
        "\n",
        "    def dispSides(self):\n",
        "        for i in range(self.n):\n",
        "            print(\"Side\",i+1,\"is\",self.sides[i])"
      ],
      "execution_count": null,
      "outputs": []
    },
    {
      "cell_type": "code",
      "metadata": {
        "id": "gPgcelj3J5NL"
      },
      "source": [
        "triangle = Polygon(8)"
      ],
      "execution_count": null,
      "outputs": []
    },
    {
      "cell_type": "code",
      "metadata": {
        "id": "02FhQqS-J5NL",
        "outputId": "0b94447d-93d2-413e-830c-1efa2db2ffaf"
      },
      "source": [
        "print(triangle.inputSides())"
      ],
      "execution_count": null,
      "outputs": [
        {
          "output_type": "stream",
          "text": [
            "Enter side 1 : 9.0\n",
            "Enter side 2 : 8.0\n",
            "Enter side 3 : 7.0\n",
            "Enter side 4 : 6.0\n",
            "Enter side 5 : 5.0\n",
            "Enter side 6 : 4.0\n",
            "Enter side 7 : 3.0\n",
            "Enter side 8 : 2.0\n",
            "[9.0, 8.0, 7.0, 6.0, 5.0, 4.0, 3.0, 2.0]\n",
            "None\n"
          ],
          "name": "stdout"
        }
      ]
    },
    {
      "cell_type": "code",
      "metadata": {
        "id": "bNqLjz6UJ5NM",
        "outputId": "02e66fd4-d3ff-42cf-ed43-03d7ddc62157"
      },
      "source": [
        "class Point:\n",
        "    def __init__(self, x=0, y=0):\n",
        "        self.x = x\n",
        "        self.y = y\n",
        "\n",
        "    def __str__(self):\n",
        "        return \"({0},{1})\".format(self.x, self.y)\n",
        "\n",
        "    def __add__(self, other):\n",
        "        x = self.x + other.x\n",
        "        y = self.y + other.y\n",
        "        return Point(x, y)\n",
        "\n",
        "\n",
        "p1 = Point(1, 2)\n",
        "p2 = Point(2, 3)\n",
        "p3 = Point(3, 3)\n",
        "\n",
        "print(p1+p2+p3)"
      ],
      "execution_count": null,
      "outputs": [
        {
          "output_type": "stream",
          "text": [
            "(6,8)\n"
          ],
          "name": "stdout"
        }
      ]
    },
    {
      "cell_type": "code",
      "metadata": {
        "id": "RpIU7AiOJ5NM"
      },
      "source": [
        "i = iter(numbers)"
      ],
      "execution_count": null,
      "outputs": []
    },
    {
      "cell_type": "code",
      "metadata": {
        "id": "lqihSqdiJ5NN"
      },
      "source": [
        "class PowTwo:\n",
        "    \"\"\"Class to implement an iterator\n",
        "    of powers of two\"\"\"\n",
        "\n",
        "    def __init__(self, max=0):\n",
        "        self.max = max\n",
        "\n",
        "    def __iter__(self):\n",
        "        self.n = 0\n",
        "        return self\n",
        "\n",
        "    def __next__(self):\n",
        "        if self.n <= self.max:\n",
        "            result = 2 ** self.n\n",
        "            self.n += 1\n",
        "            return result\n",
        "        else:\n",
        "            raise StopIteration\n",
        "\n",
        "\n",
        "# create an object\n",
        "numbers = PowTwo(3)"
      ],
      "execution_count": null,
      "outputs": []
    },
    {
      "cell_type": "code",
      "metadata": {
        "id": "Nc-lCWVMJ5NN"
      },
      "source": [
        "KEYS_OBJ_TO_CLEAN = ['Priority', 'Field', 'Sub-field', 'Notes', 'Priority for Data Catalog']\n",
        "record = ('Pripority', 'Field', 'Sub-field', 'Notes', 'Priority for Data Catalog')"
      ],
      "execution_count": null,
      "outputs": []
    },
    {
      "cell_type": "code",
      "metadata": {
        "id": "qxMtB4LwJ5NN",
        "outputId": "f1770922-4417-498e-fbe3-c283dc14d69c"
      },
      "source": [
        "print('Pripority' in record)"
      ],
      "execution_count": null,
      "outputs": [
        {
          "output_type": "stream",
          "text": [
            "True\n"
          ],
          "name": "stdout"
        }
      ]
    },
    {
      "cell_type": "code",
      "metadata": {
        "id": "pHd9tOmnJ5NO"
      },
      "source": [
        ""
      ],
      "execution_count": null,
      "outputs": []
    }
  ]
}